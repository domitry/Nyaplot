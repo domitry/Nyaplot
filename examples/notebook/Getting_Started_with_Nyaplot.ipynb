{
 "metadata": {
  "language": "ruby",
  "name": ""
 },
 "nbformat": 3,
 "nbformat_minor": 0,
 "worksheets": [
  {
   "cells": [
    {
     "cell_type": "heading",
     "level": 1,
     "metadata": {},
     "source": [
      "Nyaplot Tutorial 1: Getting Started with Nyaplot"
     ]
    },
    {
     "cell_type": "markdown",
     "metadata": {},
     "source": [
      "This notebook is written to demonstrate Nyaplot. \n",
      "Nyaplot is an interactive plots generator for Ruby users.\n",
      "It can create various types of plots, from basic ones like scatter or line, to more practical ones like 3D charts and Map visualization.\n",
      "This tutorial will introduce the basic use of Nyaplot."
     ]
    },
    {
     "cell_type": "code",
     "collapsed": false,
     "input": [
      "require 'nyaplot'"
     ],
     "language": "python",
     "metadata": {},
     "outputs": [
      {
       "html": [
        "<script type='text/javascript'>if(window['d3'] === undefined ||\n",
        "   window['Nyaplot'] === undefined){\n",
        "    var path = {\"d3\":\"http://d3js.org/d3.v3.min\"};\n",
        "\n",
        "\n",
        "\n",
        "    var shim = {\"d3\":{\"exports\":\"d3\"}};\n",
        "\n",
        "    require.config({paths: path, shim:shim});\n",
        "\n",
        "\n",
        "require(['d3'], function(d3){window['d3']=d3;console.log('finished loading d3');\n",
        "\n",
        "\tvar script = d3.select(\"head\")\n",
        "\t    .append(\"script\")\n",
        "\t    .attr(\"src\", \"https://rawgit.com/domitry/Nyaplotjs/master/release/nyaplot.js\")\n",
        "\t    .attr(\"async\", true);\n",
        "\n",
        "\tscript[0][0].onload = script[0][0].onreadystatechange = function(){\n",
        "\n",
        "\n",
        "\t    var event = document.createEvent(\"HTMLEvents\");\n",
        "\t    event.initEvent(\"load_nyaplot\",false,false);\n",
        "\t    window.dispatchEvent(event);\n",
        "\t    console.log('Finished loading Nyaplotjs');\n",
        "\n",
        "\t};\n",
        "\n",
        "\n",
        "});\n",
        "}\n",
        "</script>"
       ],
       "metadata": {},
       "output_type": "pyout",
       "prompt_number": 1,
       "text": [
        "\"if(window['d3'] === undefined ||\\n   window['Nyaplot'] === undefined){\\n    var path = {\\\"d3\\\":\\\"http://d3js.org/d3.v3.min\\\"};\\n\\n\\n\\n    var shim = {\\\"d3\\\":{\\\"exports\\\":\\\"d3\\\"}};\\n\\n    require.config({paths: path, shim:shim});\\n\\n\\nrequire(['d3'], function(d3){window['d3']=d3;console.log('finished loading d3');\\n\\n\\tvar script = d3.select(\\\"head\\\")\\n\\t    .append(\\\"script\\\")\\n\\t    .attr(\\\"src\\\", \\\"https://rawgit.com/domitry/Nyaplotjs/master/release/nyaplot.js\\\")\\n\\t    .attr(\\\"async\\\", true);\\n\\n\\tscript[0][0].onload = script[0][0].onreadystatechange = function(){\\n\\n\\n\\t    var event = document.createEvent(\\\"HTMLEvents\\\");\\n\\t    event.initEvent(\\\"load_nyaplot\\\",false,false);\\n\\t    window.dispatchEvent(event);\\n\\t    console.log('Finished loading Nyaplotjs');\\n\\n\\t};\\n\\n\\n});\\n}\\n\""
       ]
      },
      {
       "metadata": {},
       "output_type": "pyout",
       "prompt_number": 1,
       "text": [
        "true"
       ]
      }
     ],
     "prompt_number": 1
    },
    {
     "cell_type": "markdown",
     "metadata": {},
     "source": [
      "Let's make some diagrams with Nyaplot. The code shown below is the minimal code to create bar chart."
     ]
    },
    {
     "cell_type": "code",
     "collapsed": false,
     "input": [
      "plot = Nyaplot::Plot.new\n",
      "bar = plot.add(:bar, ['Persian', 'Maine Coon', 'American Shorthair'], [10,20,30])"
     ],
     "language": "python",
     "metadata": {},
     "outputs": [
      {
       "metadata": {},
       "output_type": "pyout",
       "prompt_number": 5,
       "text": [
        "#<Nyaplot::Diagram:0xb84662e4 @properties={:type=>:bar, :options=>{:x=>\"data0\", :y=>\"data1\"}, :data=>\"64135ec2-aef8-46f6-ac60-bd7cfc0faa63\"}, @xrange=[\"Persian\", \"Maine Coon\", \"American Shorthair\"], @yrange=[0, 30]>"
       ]
      }
     ],
     "prompt_number": 5
    },
    {
     "cell_type": "markdown",
     "metadata": {},
     "source": [
      "That's all. Plot will appear on the notebook using `Nyaplot::Plot#show`."
     ]
    },
    {
     "cell_type": "code",
     "collapsed": false,
     "input": [
      "plot.show"
     ],
     "language": "python",
     "metadata": {},
     "outputs": [
      {
       "html": [
        "<div id='vis-d9d8109a-56fc-4307-820d-892af843fa07'></div>\n",
        "<script>\n",
        "(function(){\n",
        "    var render = function(){\n",
        "        var model = {\"panes\":[{\"diagrams\":[{\"type\":\"bar\",\"options\":{\"x\":\"data0\",\"y\":\"data1\"},\"data\":\"12ce180c-7ae9-4f2b-959b-1e71b3103492\"}],\"options\":{\"width\":700,\"xrange\":[\"Persian\",\"Maine Coon\",\"American Shorthair\"],\"yrange\":[0,30]}}],\"data\":{\"12ce180c-7ae9-4f2b-959b-1e71b3103492\":[{\"data0\":\"Persian\",\"data1\":10},{\"data0\":\"Maine Coon\",\"data1\":20},{\"data0\":\"American Shorthair\",\"data1\":30}]},\"extension\":[]}\n",
        "        Nyaplot.core.parse(model, '#vis-d9d8109a-56fc-4307-820d-892af843fa07');\n",
        "    };\n",
        "    if(window['Nyaplot']==undefined){\n",
        "        window.addEventListener('load_nyaplot', render, false);\n",
        "\treturn;\n",
        "    }\n",
        "    render();\n",
        "})();\n",
        "</script>\n"
       ],
       "metadata": {},
       "output_type": "pyout",
       "prompt_number": 4,
       "text": [
        "\"<div id='vis-d9d8109a-56fc-4307-820d-892af843fa07'></div>\\n<script>\\n(function(){\\n    var render = function(){\\n        var model = {\\\"panes\\\":[{\\\"diagrams\\\":[{\\\"type\\\":\\\"bar\\\",\\\"options\\\":{\\\"x\\\":\\\"data0\\\",\\\"y\\\":\\\"data1\\\"},\\\"data\\\":\\\"12ce180c-7ae9-4f2b-959b-1e71b3103492\\\"}],\\\"options\\\":{\\\"width\\\":700,\\\"xrange\\\":[\\\"Persian\\\",\\\"Maine Coon\\\",\\\"American Shorthair\\\"],\\\"yrange\\\":[0,30]}}],\\\"data\\\":{\\\"12ce180c-7ae9-4f2b-959b-1e71b3103492\\\":[{\\\"data0\\\":\\\"Persian\\\",\\\"data1\\\":10},{\\\"data0\\\":\\\"Maine Coon\\\",\\\"data1\\\":20},{\\\"data0\\\":\\\"American Shorthair\\\",\\\"data1\\\":30}]},\\\"extension\\\":[]}\\n        Nyaplot.core.parse(model, '#vis-d9d8109a-56fc-4307-820d-892af843fa07');\\n    };\\n    if(window['Nyaplot']==undefined){\\n        window.addEventListener('load_nyaplot', render, false);\\n\\treturn;\\n    }\\n    render();\\n})();\\n</script>\\n\""
       ]
      }
     ],
     "prompt_number": 4
    },
    {
     "cell_type": "markdown",
     "metadata": {},
     "source": [
      "That's looks good, but I noticed that x and y labels have no sence. So fix them to be correct name."
     ]
    },
    {
     "cell_type": "code",
     "collapsed": false,
     "input": [
      "plot.x_label(\"Species\")\n",
      "plot.y_label(\"Number\")\n",
      "plot.show"
     ],
     "language": "python",
     "metadata": {},
     "outputs": [
      {
       "html": [
        "<div id='vis-6179c91c-7b88-41a5-a2c7-5dd7b10dcb34'></div>\n",
        "<script>\n",
        "(function(){\n",
        "    var render = function(){\n",
        "        var model = {\"panes\":[{\"diagrams\":[{\"type\":\"bar\",\"options\":{\"x\":\"data0\",\"y\":\"data1\"},\"data\":\"64135ec2-aef8-46f6-ac60-bd7cfc0faa63\"}],\"options\":{\"x_label\":\"Species\",\"y_label\":\"Number\",\"width\":700,\"xrange\":[\"Persian\",\"Maine Coon\",\"American Shorthair\"],\"yrange\":[0,30]}}],\"data\":{\"64135ec2-aef8-46f6-ac60-bd7cfc0faa63\":[{\"data0\":\"Persian\",\"data1\":10},{\"data0\":\"Maine Coon\",\"data1\":20},{\"data0\":\"American Shorthair\",\"data1\":30}]},\"extension\":[]}\n",
        "        Nyaplot.core.parse(model, '#vis-6179c91c-7b88-41a5-a2c7-5dd7b10dcb34');\n",
        "    };\n",
        "    if(window['Nyaplot']==undefined){\n",
        "        window.addEventListener('load_nyaplot', render, false);\n",
        "\treturn;\n",
        "    }\n",
        "    render();\n",
        "})();\n",
        "</script>\n"
       ],
       "metadata": {},
       "output_type": "pyout",
       "prompt_number": 6,
       "text": [
        "\"<div id='vis-6179c91c-7b88-41a5-a2c7-5dd7b10dcb34'></div>\\n<script>\\n(function(){\\n    var render = function(){\\n        var model = {\\\"panes\\\":[{\\\"diagrams\\\":[{\\\"type\\\":\\\"bar\\\",\\\"options\\\":{\\\"x\\\":\\\"data0\\\",\\\"y\\\":\\\"data1\\\"},\\\"data\\\":\\\"64135ec2-aef8-46f6-ac60-bd7cfc0faa63\\\"}],\\\"options\\\":{\\\"x_label\\\":\\\"Species\\\",\\\"y_label\\\":\\\"Number\\\",\\\"width\\\":700,\\\"xrange\\\":[\\\"Persian\\\",\\\"Maine Coon\\\",\\\"American Shorthair\\\"],\\\"yrange\\\":[0,30]}}],\\\"data\\\":{\\\"64135ec2-aef8-46f6-ac60-bd7cfc0faa63\\\":[{\\\"data0\\\":\\\"Persian\\\",\\\"data1\\\":10},{\\\"data0\\\":\\\"Maine Coon\\\",\\\"data1\\\":20},{\\\"data0\\\":\\\"American Shorthair\\\",\\\"data1\\\":30}]},\\\"extension\\\":[]}\\n        Nyaplot.core.parse(model, '#vis-6179c91c-7b88-41a5-a2c7-5dd7b10dcb34');\\n    };\\n    if(window['Nyaplot']==undefined){\\n        window.addEventListener('load_nyaplot', render, false);\\n\\treturn;\\n    }\\n    render();\\n})();\\n</script>\\n\""
       ]
      }
     ],
     "prompt_number": 6
    },
    {
     "cell_type": "markdown",
     "metadata": {},
     "source": [
      "Good. Nyaplot::Plot has various options except `x_label` and `y_label`, and you can find them by reading documents and some other notebooks.  "
     ]
    },
    {
     "cell_type": "markdown",
     "metadata": {},
     "source": [
      "Next the color is not so pretty, so let's try to change colors. Nyaplot has various default colorset and it's quite easy to find your favorite one."
     ]
    },
    {
     "cell_type": "code",
     "collapsed": false,
     "input": [
      "colors = Nyaplot::Colors.qual"
     ],
     "language": "python",
     "metadata": {},
     "outputs": [
      {
       "html": [
        "<table><tr><th>rgb(179,226,205)</th><th>rgb(253,205,172)</th><th>rgb(203,213,232)</th><th>rgb(244,202,228)</th><th>rgb(230,245,201)</th><th>rgb(255,242,174)</th><th>rgb(241,226,204)</th><th>rgb(204,204,204)</th></tr><tr><td style=\"background-color:rgb(179,226,205);\">&nbsp;</td><td style=\"background-color:rgb(253,205,172);\">&nbsp;</td><td style=\"background-color:rgb(203,213,232);\">&nbsp;</td><td style=\"background-color:rgb(244,202,228);\">&nbsp;</td><td style=\"background-color:rgb(230,245,201);\">&nbsp;</td><td style=\"background-color:rgb(255,242,174);\">&nbsp;</td><td style=\"background-color:rgb(241,226,204);\">&nbsp;</td><td style=\"background-color:rgb(204,204,204);\">&nbsp;</td></tr></table>"
       ],
       "metadata": {},
       "output_type": "pyout",
       "prompt_number": 10,
       "text": [
        "#<Nyaplot::Color:0xb874d980 @source=[\"rgb(179,226,205)\", \"rgb(253,205,172)\", \"rgb(203,213,232)\", \"rgb(244,202,228)\", \"rgb(230,245,201)\", \"rgb(255,242,174)\", \"rgb(241,226,204)\", \"rgb(204,204,204)\"]>"
       ]
      }
     ],
     "prompt_number": 10
    },
    {
     "cell_type": "markdown",
     "metadata": {},
     "source": [
      "`Nyaplot::Colors#qual` finds random colorset for qualitative data and it may be usable when creating bar chart or scatter. To leran more about `Nyaplot::Colors`, visit [Tutorial3](http://nbviewer.ipython.org/github/domitry/nyaplot/blob/master/examples/notebook/Colors.ipynb).  \n",
      "Then fill bar charts in the selected color."
     ]
    },
    {
     "cell_type": "code",
     "collapsed": false,
     "input": [
      "bar.color(colors)\n",
      "plot.show"
     ],
     "language": "python",
     "metadata": {},
     "outputs": [
      {
       "html": [
        "<div id='vis-d97738d6-3cd1-49b1-99eb-9d9e214ea3f0'></div>\n",
        "<script>\n",
        "(function(){\n",
        "    var render = function(){\n",
        "        var model = {\"panes\":[{\"diagrams\":[{\"type\":\"bar\",\"options\":{\"x\":\"data0\",\"y\":\"data1\",\"color\":[\"rgb(179,226,205)\",\"rgb(253,205,172)\",\"rgb(203,213,232)\",\"rgb(244,202,228)\",\"rgb(230,245,201)\",\"rgb(255,242,174)\",\"rgb(241,226,204)\",\"rgb(204,204,204)\"]},\"data\":\"64135ec2-aef8-46f6-ac60-bd7cfc0faa63\"}],\"options\":{\"x_label\":\"Species\",\"y_label\":\"Number\",\"width\":700,\"xrange\":[\"Persian\",\"Maine Coon\",\"American Shorthair\"],\"yrange\":[0,30]}}],\"data\":{\"64135ec2-aef8-46f6-ac60-bd7cfc0faa63\":[{\"data0\":\"Persian\",\"data1\":10},{\"data0\":\"Maine Coon\",\"data1\":20},{\"data0\":\"American Shorthair\",\"data1\":30}]},\"extension\":[]}\n",
        "        Nyaplot.core.parse(model, '#vis-d97738d6-3cd1-49b1-99eb-9d9e214ea3f0');\n",
        "    };\n",
        "    if(window['Nyaplot']==undefined){\n",
        "        window.addEventListener('load_nyaplot', render, false);\n",
        "\treturn;\n",
        "    }\n",
        "    render();\n",
        "})();\n",
        "</script>\n"
       ],
       "metadata": {},
       "output_type": "pyout",
       "prompt_number": 11,
       "text": [
        "\"<div id='vis-d97738d6-3cd1-49b1-99eb-9d9e214ea3f0'></div>\\n<script>\\n(function(){\\n    var render = function(){\\n        var model = {\\\"panes\\\":[{\\\"diagrams\\\":[{\\\"type\\\":\\\"bar\\\",\\\"options\\\":{\\\"x\\\":\\\"data0\\\",\\\"y\\\":\\\"data1\\\",\\\"color\\\":[\\\"rgb(179,226,205)\\\",\\\"rgb(253,205,172)\\\",\\\"rgb(203,213,232)\\\",\\\"rgb(244,202,228)\\\",\\\"rgb(230,245,201)\\\",\\\"rgb(255,242,174)\\\",\\\"rgb(241,226,204)\\\",\\\"rgb(204,204,204)\\\"]},\\\"data\\\":\\\"64135ec2-aef8-46f6-ac60-bd7cfc0faa63\\\"}],\\\"options\\\":{\\\"x_label\\\":\\\"Species\\\",\\\"y_label\\\":\\\"Number\\\",\\\"width\\\":700,\\\"xrange\\\":[\\\"Persian\\\",\\\"Maine Coon\\\",\\\"American Shorthair\\\"],\\\"yrange\\\":[0,30]}}],\\\"data\\\":{\\\"64135ec2-aef8-46f6-ac60-bd7cfc0faa63\\\":[{\\\"data0\\\":\\\"Persian\\\",\\\"data1\\\":10},{\\\"data0\\\":\\\"Maine Coon\\\",\\\"data1\\\":20},{\\\"data0\\\":\\\"American Shorthair\\\",\\\"data1\\\":30}]},\\\"extension\\\":[]}\\n        Nyaplot.core.parse(model, '#vis-d97738d6-3cd1-49b1-99eb-9d9e214ea3f0');\\n    };\\n    if(window['Nyaplot']==undefined){\\n        window.addEventListener('load_nyaplot', render, false);\\n\\treturn;\\n    }\\n    render();\\n})();\\n</script>\\n\""
       ]
      }
     ],
     "prompt_number": 11
    },
    {
     "cell_type": "markdown",
     "metadata": {},
     "source": [
      "The example above, I prepared array and use `Nyaplot::Plot.add` to add bar chart to the plot. But Nyaplot has more useful API.  \n",
      "Let's make the same plot using `Daru::DataFrame`."
     ]
    },
    {
     "cell_type": "code",
     "collapsed": false,
     "input": [
      "plot2 = Nyaplot::Plot.new"
     ],
     "language": "python",
     "metadata": {},
     "outputs": [
      {
       "metadata": {},
       "output_type": "pyout",
       "prompt_number": 13,
       "text": [
        "#<Nyaplot::Plot:0xb87ac0c0 @properties={:diagrams=>[], :options=>{}}>"
       ]
      }
     ],
     "prompt_number": 13
    },
    {
     "cell_type": "code",
     "collapsed": false,
     "input": [
      "df = Daru::DataFrame.new({species: ['Persian', 'Maine Coon', 'American Shorthair'], number: [10,20,30]})"
     ],
     "language": "python",
     "metadata": {},
     "outputs": [
      {
       "html": [
        "<table><tr><th>species</th><th>number</th></tr><tr><td>Persian</td><td>10</td></tr><tr><td>Maine Coon</td><td>20</td></tr><tr><td>American Shorthair</td><td>30</td></tr></table>"
       ],
       "metadata": {},
       "output_type": "pyout",
       "prompt_number": 14,
       "text": [
        "#<Daru::DataFrame:0xb87ebaf4 @name=\"8136a447-5d73-46b2-b1eb-e247b1c8c0a6\", @rows=[{:species=>\"Persian\", :number=>10}, {:species=>\"Maine Coon\", :number=>20}, {:species=>\"American Shorthair\", :number=>30}]>"
       ]
      }
     ],
     "prompt_number": 14
    },
    {
     "cell_type": "markdown",
     "metadata": {},
     "source": [
      "Use `Nyaplot::Plot#add_with_df` instead of `#add` to create plot from DataFrame."
     ]
    },
    {
     "cell_type": "code",
     "collapsed": false,
     "input": [
      "plot2.add_with_df(df, :bar, :species, :number) # x-> column :species, y-> column :number\n",
      "plot2.show"
     ],
     "language": "python",
     "metadata": {},
     "outputs": [
      {
       "html": [
        "<div id='vis-f522dace-de54-4320-ab2f-a52596a962a8'></div>\n",
        "<script>\n",
        "(function(){\n",
        "    var render = function(){\n",
        "        var model = {\"panes\":[{\"diagrams\":[{\"type\":\"bar\",\"options\":{\"x\":\"species\",\"y\":\"number\"},\"data\":\"8136a447-5d73-46b2-b1eb-e247b1c8c0a6\"}],\"options\":{\"width\":700,\"xrange\":[\"Persian\",\"Maine Coon\",\"American Shorthair\"],\"yrange\":[0,30]}}],\"data\":{\"8136a447-5d73-46b2-b1eb-e247b1c8c0a6\":[{\"species\":\"Persian\",\"number\":10},{\"species\":\"Maine Coon\",\"number\":20},{\"species\":\"American Shorthair\",\"number\":30}]},\"extension\":[]}\n",
        "        Nyaplot.core.parse(model, '#vis-f522dace-de54-4320-ab2f-a52596a962a8');\n",
        "    };\n",
        "    if(window['Nyaplot']==undefined){\n",
        "        window.addEventListener('load_nyaplot', render, false);\n",
        "\treturn;\n",
        "    }\n",
        "    render();\n",
        "})();\n",
        "</script>\n"
       ],
       "metadata": {},
       "output_type": "pyout",
       "prompt_number": 15,
       "text": [
        "\"<div id='vis-f522dace-de54-4320-ab2f-a52596a962a8'></div>\\n<script>\\n(function(){\\n    var render = function(){\\n        var model = {\\\"panes\\\":[{\\\"diagrams\\\":[{\\\"type\\\":\\\"bar\\\",\\\"options\\\":{\\\"x\\\":\\\"species\\\",\\\"y\\\":\\\"number\\\"},\\\"data\\\":\\\"8136a447-5d73-46b2-b1eb-e247b1c8c0a6\\\"}],\\\"options\\\":{\\\"width\\\":700,\\\"xrange\\\":[\\\"Persian\\\",\\\"Maine Coon\\\",\\\"American Shorthair\\\"],\\\"yrange\\\":[0,30]}}],\\\"data\\\":{\\\"8136a447-5d73-46b2-b1eb-e247b1c8c0a6\\\":[{\\\"species\\\":\\\"Persian\\\",\\\"number\\\":10},{\\\"species\\\":\\\"Maine Coon\\\",\\\"number\\\":20},{\\\"species\\\":\\\"American Shorthair\\\",\\\"number\\\":30}]},\\\"extension\\\":[]}\\n        Nyaplot.core.parse(model, '#vis-f522dace-de54-4320-ab2f-a52596a962a8');\\n    };\\n    if(window['Nyaplot']==undefined){\\n        window.addEventListener('load_nyaplot', render, false);\\n\\treturn;\\n    }\\n    render();\\n})();\\n</script>\\n\""
       ]
      }
     ],
     "prompt_number": 15
    },
    {
     "cell_type": "markdown",
     "metadata": {},
     "source": [
      "DataFrame is useful when you create more complicated plots. Go to [Tutorial2](http://nbviewer.ipython.org/github/domitry/Nyaplot/blob/master/examples/notebook/Interaction_with_DataFrame.ipynb)."
     ]
    },
    {
     "cell_type": "markdown",
     "metadata": {},
     "source": [
      "This tutorial was written by Naoki Nishida, as a part of products in GSoC 2014."
     ]
    }
   ],
   "metadata": {}
  }
 ]
}